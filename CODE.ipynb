{
 "cells": [
  {
   "cell_type": "code",
   "execution_count": 1,
   "id": "c5fdeaec",
   "metadata": {},
   "outputs": [],
   "source": [
    "import numpy as np\n",
    "import pandas as pd\n",
    "import seaborn as sns\n",
    "import matplotlib.pyplot as plt\n",
    "import sklearn.model_selection as skm\n",
    "from sklearn.model_selection import train_test_split\n",
    "from sklearn.preprocessing import StandardScaler\n",
    "from sklearn.svm import SVC\n",
    "from sklearn.preprocessing import MinMaxScaler\n",
    "from sklearn.inspection import permutation_importance\n",
    "from mlxtend.plotting import plot_decision_regions\n",
    "from sklearn.metrics import confusion_matrix\n",
    "from sklearn.model_selection import GridSearchCV"
   ]
  },
  {
   "cell_type": "code",
   "execution_count": 2,
   "id": "b6f60a20",
   "metadata": {},
   "outputs": [
    {
     "data": {
      "text/html": [
       "<div>\n",
       "<style scoped>\n",
       "    .dataframe tbody tr th:only-of-type {\n",
       "        vertical-align: middle;\n",
       "    }\n",
       "\n",
       "    .dataframe tbody tr th {\n",
       "        vertical-align: top;\n",
       "    }\n",
       "\n",
       "    .dataframe thead th {\n",
       "        text-align: right;\n",
       "    }\n",
       "</style>\n",
       "<table border=\"1\" class=\"dataframe\">\n",
       "  <thead>\n",
       "    <tr style=\"text-align: right;\">\n",
       "      <th></th>\n",
       "      <th>SERIAL</th>\n",
       "      <th>DENSITY</th>\n",
       "      <th>OWNERSHP</th>\n",
       "      <th>OWNERSHPD</th>\n",
       "      <th>COSTELEC</th>\n",
       "      <th>COSTGAS</th>\n",
       "      <th>COSTWATR</th>\n",
       "      <th>COSTFUEL</th>\n",
       "      <th>HHINCOME</th>\n",
       "      <th>VALUEH</th>\n",
       "      <th>...</th>\n",
       "      <th>NFAMS</th>\n",
       "      <th>NCOUPLES</th>\n",
       "      <th>PERNUM</th>\n",
       "      <th>PERWT</th>\n",
       "      <th>AGE</th>\n",
       "      <th>MARST</th>\n",
       "      <th>BIRTHYR</th>\n",
       "      <th>EDUC</th>\n",
       "      <th>EDUCD</th>\n",
       "      <th>INCTOT</th>\n",
       "    </tr>\n",
       "  </thead>\n",
       "  <tbody>\n",
       "    <tr>\n",
       "      <th>0</th>\n",
       "      <td>1371772</td>\n",
       "      <td>920.0</td>\n",
       "      <td>1</td>\n",
       "      <td>13</td>\n",
       "      <td>9990</td>\n",
       "      <td>9993</td>\n",
       "      <td>360</td>\n",
       "      <td>9993</td>\n",
       "      <td>75000</td>\n",
       "      <td>700000</td>\n",
       "      <td>...</td>\n",
       "      <td>1</td>\n",
       "      <td>0</td>\n",
       "      <td>1</td>\n",
       "      <td>14</td>\n",
       "      <td>52</td>\n",
       "      <td>6</td>\n",
       "      <td>1969</td>\n",
       "      <td>7</td>\n",
       "      <td>71</td>\n",
       "      <td>75000</td>\n",
       "    </tr>\n",
       "    <tr>\n",
       "      <th>1</th>\n",
       "      <td>1371773</td>\n",
       "      <td>3640.9</td>\n",
       "      <td>2</td>\n",
       "      <td>22</td>\n",
       "      <td>1080</td>\n",
       "      <td>9993</td>\n",
       "      <td>1800</td>\n",
       "      <td>9993</td>\n",
       "      <td>13600</td>\n",
       "      <td>9999999</td>\n",
       "      <td>...</td>\n",
       "      <td>2</td>\n",
       "      <td>0</td>\n",
       "      <td>1</td>\n",
       "      <td>83</td>\n",
       "      <td>22</td>\n",
       "      <td>6</td>\n",
       "      <td>1999</td>\n",
       "      <td>10</td>\n",
       "      <td>101</td>\n",
       "      <td>5600</td>\n",
       "    </tr>\n",
       "    <tr>\n",
       "      <th>2</th>\n",
       "      <td>1371773</td>\n",
       "      <td>3640.9</td>\n",
       "      <td>2</td>\n",
       "      <td>22</td>\n",
       "      <td>1080</td>\n",
       "      <td>9993</td>\n",
       "      <td>1800</td>\n",
       "      <td>9993</td>\n",
       "      <td>13600</td>\n",
       "      <td>9999999</td>\n",
       "      <td>...</td>\n",
       "      <td>2</td>\n",
       "      <td>0</td>\n",
       "      <td>2</td>\n",
       "      <td>106</td>\n",
       "      <td>22</td>\n",
       "      <td>6</td>\n",
       "      <td>1999</td>\n",
       "      <td>7</td>\n",
       "      <td>71</td>\n",
       "      <td>8000</td>\n",
       "    </tr>\n",
       "    <tr>\n",
       "      <th>3</th>\n",
       "      <td>1371774</td>\n",
       "      <td>22.5</td>\n",
       "      <td>1</td>\n",
       "      <td>13</td>\n",
       "      <td>600</td>\n",
       "      <td>9993</td>\n",
       "      <td>9993</td>\n",
       "      <td>9993</td>\n",
       "      <td>7000</td>\n",
       "      <td>800000</td>\n",
       "      <td>...</td>\n",
       "      <td>1</td>\n",
       "      <td>0</td>\n",
       "      <td>1</td>\n",
       "      <td>33</td>\n",
       "      <td>62</td>\n",
       "      <td>4</td>\n",
       "      <td>1959</td>\n",
       "      <td>6</td>\n",
       "      <td>63</td>\n",
       "      <td>7000</td>\n",
       "    </tr>\n",
       "    <tr>\n",
       "      <th>4</th>\n",
       "      <td>1371775</td>\n",
       "      <td>3710.4</td>\n",
       "      <td>2</td>\n",
       "      <td>22</td>\n",
       "      <td>3600</td>\n",
       "      <td>9993</td>\n",
       "      <td>9997</td>\n",
       "      <td>9993</td>\n",
       "      <td>50500</td>\n",
       "      <td>9999999</td>\n",
       "      <td>...</td>\n",
       "      <td>1</td>\n",
       "      <td>0</td>\n",
       "      <td>1</td>\n",
       "      <td>297</td>\n",
       "      <td>50</td>\n",
       "      <td>3</td>\n",
       "      <td>1971</td>\n",
       "      <td>7</td>\n",
       "      <td>71</td>\n",
       "      <td>16000</td>\n",
       "    </tr>\n",
       "  </tbody>\n",
       "</table>\n",
       "<p>5 rows × 24 columns</p>\n",
       "</div>"
      ],
      "text/plain": [
       "    SERIAL  DENSITY  OWNERSHP  OWNERSHPD  COSTELEC  COSTGAS  COSTWATR  \\\n",
       "0  1371772    920.0         1         13      9990     9993       360   \n",
       "1  1371773   3640.9         2         22      1080     9993      1800   \n",
       "2  1371773   3640.9         2         22      1080     9993      1800   \n",
       "3  1371774     22.5         1         13       600     9993      9993   \n",
       "4  1371775   3710.4         2         22      3600     9993      9997   \n",
       "\n",
       "   COSTFUEL  HHINCOME   VALUEH  ...  NFAMS  NCOUPLES  PERNUM  PERWT  AGE  \\\n",
       "0      9993     75000   700000  ...      1         0       1     14   52   \n",
       "1      9993     13600  9999999  ...      2         0       1     83   22   \n",
       "2      9993     13600  9999999  ...      2         0       2    106   22   \n",
       "3      9993      7000   800000  ...      1         0       1     33   62   \n",
       "4      9993     50500  9999999  ...      1         0       1    297   50   \n",
       "\n",
       "   MARST  BIRTHYR  EDUC  EDUCD  INCTOT  \n",
       "0      6     1969     7     71   75000  \n",
       "1      6     1999    10    101    5600  \n",
       "2      6     1999     7     71    8000  \n",
       "3      4     1959     6     63    7000  \n",
       "4      3     1971     7     71   16000  \n",
       "\n",
       "[5 rows x 24 columns]"
      ]
     },
     "execution_count": 2,
     "metadata": {},
     "output_type": "execute_result"
    }
   ],
   "source": [
    "df = pd.read_csv('Housing.csv')\n",
    "df.head()"
   ]
  },
  {
   "cell_type": "code",
   "execution_count": 3,
   "id": "0e7bfaea",
   "metadata": {},
   "outputs": [
    {
     "data": {
      "text/plain": [
       "(75388, 24)"
      ]
     },
     "execution_count": 3,
     "metadata": {},
     "output_type": "execute_result"
    }
   ],
   "source": [
    "df.shape"
   ]
  },
  {
   "cell_type": "code",
   "execution_count": 4,
   "id": "00130ba7",
   "metadata": {},
   "outputs": [
    {
     "data": {
      "text/plain": [
       "Index(['SERIAL', 'DENSITY', 'OWNERSHP', 'OWNERSHPD', 'COSTELEC', 'COSTGAS',\n",
       "       'COSTWATR', 'COSTFUEL', 'HHINCOME', 'VALUEH', 'ROOMS', 'BUILTYR2',\n",
       "       'BEDROOMS', 'VEHICLES', 'NFAMS', 'NCOUPLES', 'PERNUM', 'PERWT', 'AGE',\n",
       "       'MARST', 'BIRTHYR', 'EDUC', 'EDUCD', 'INCTOT'],\n",
       "      dtype='object')"
      ]
     },
     "execution_count": 4,
     "metadata": {},
     "output_type": "execute_result"
    }
   ],
   "source": [
    "df.columns"
   ]
  },
  {
   "cell_type": "code",
   "execution_count": 5,
   "id": "f4b3219c",
   "metadata": {},
   "outputs": [
    {
     "data": {
      "text/plain": [
       "0"
      ]
     },
     "execution_count": 5,
     "metadata": {},
     "output_type": "execute_result"
    }
   ],
   "source": [
    "df.isnull().any(axis=1).sum()"
   ]
  },
  {
   "cell_type": "code",
   "execution_count": 6,
   "id": "9b6eb8e3",
   "metadata": {},
   "outputs": [
    {
     "data": {
      "text/plain": [
       "(30802, 24)"
      ]
     },
     "execution_count": 6,
     "metadata": {},
     "output_type": "execute_result"
    }
   ],
   "source": [
    "#sorting the values based on oldest member of each house and dropping duplicate SERIAL values \n",
    "df = df.sort_values(['SERIAL', 'AGE'], ascending=[True, False])\n",
    "df=df.drop_duplicates('SERIAL')\n",
    "df.shape"
   ]
  },
  {
   "cell_type": "code",
   "execution_count": 7,
   "id": "429347e4",
   "metadata": {},
   "outputs": [],
   "source": [
    "#dropping unnecessary values\n",
    "df = df.drop(['SERIAL', 'OWNERSHPD', 'COSTELEC', 'COSTGAS', 'COSTWATR', 'COSTFUEL','PERNUM', \n",
    "              'PERWT','VALUEH', 'BUILTYR2','BIRTHYR','EDUCD'], axis=1)"
   ]
  },
  {
   "cell_type": "code",
   "execution_count": 8,
   "id": "efd2f13c",
   "metadata": {},
   "outputs": [
    {
     "data": {
      "text/plain": [
       "Index(['DENSITY', 'OWNERSHP', 'HHINCOME', 'ROOMS', 'BEDROOMS', 'VEHICLES',\n",
       "       'NFAMS', 'NCOUPLES', 'AGE', 'MARST', 'EDUC', 'INCTOT'],\n",
       "      dtype='object')"
      ]
     },
     "execution_count": 8,
     "metadata": {},
     "output_type": "execute_result"
    }
   ],
   "source": [
    "df.columns"
   ]
  },
  {
   "cell_type": "code",
   "execution_count": 10,
   "id": "f949bf4a",
   "metadata": {},
   "outputs": [],
   "source": [
    "#replacing MARST AND EDUC values\n",
    "df['MARST'] = df['MARST'].replace({1:'married,spouse_present', 2:'married,spouse_absent', 3:'separated', 4:'divorced', 5:'widow', 6:'single'})\n",
    "df['EDUC'] = df['EDUC'].replace({0:'no_school', 1:'Primary_school', 2:'Elementry_school', 3:'Gr9_schooling', 4:'Gr10_schooling', 5:'Gr11_schooling', 6:'Gr12_schooling', 7:'1yr_college', 8:'2yrs_college', 9:'3yrs_college', 10:'4yrs_college', 11:'5+yrscollege'})"
   ]
  },
  {
   "cell_type": "code",
   "execution_count": 11,
   "id": "7b725246",
   "metadata": {},
   "outputs": [
    {
     "data": {
      "text/plain": [
       "Index(['DENSITY', 'OWNERSHP', 'HHINCOME', 'ROOMS', 'BEDROOMS', 'VEHICLES',\n",
       "       'NFAMS', 'NCOUPLES', 'AGE', 'INCTOT', 'MARST_divorced',\n",
       "       'MARST_married,spouse_absent', 'MARST_married,spouse_present',\n",
       "       'MARST_separated', 'MARST_single', 'MARST_widow', 'EDUC_1yr_college',\n",
       "       'EDUC_2yrs_college', 'EDUC_4yrs_college', 'EDUC_5+yrscollege',\n",
       "       'EDUC_Elementry_school', 'EDUC_Gr10_schooling', 'EDUC_Gr11_schooling',\n",
       "       'EDUC_Gr12_schooling', 'EDUC_Gr9_schooling', 'EDUC_Primary_school',\n",
       "       'EDUC_no_school'],\n",
       "      dtype='object')"
      ]
     },
     "execution_count": 11,
     "metadata": {},
     "output_type": "execute_result"
    }
   ],
   "source": [
    "#converting MARST and EDUC into dummies\n",
    "df = pd.get_dummies(df, columns=['MARST','EDUC'])\n",
    "df.columns"
   ]
  },
  {
   "cell_type": "code",
   "execution_count": 12,
   "id": "2c61478c",
   "metadata": {},
   "outputs": [
    {
     "data": {
      "text/plain": [
       "(30802, 27)"
      ]
     },
     "execution_count": 12,
     "metadata": {},
     "output_type": "execute_result"
    }
   ],
   "source": [
    "df.shape"
   ]
  },
  {
   "cell_type": "code",
   "execution_count": 13,
   "id": "f6f05974",
   "metadata": {},
   "outputs": [],
   "source": [
    "# Split data into X and y\n",
    "X = df.drop('OWNERSHP', axis=1)\n",
    "y = df['OWNERSHP']\n",
    "\n",
    "# Split the data into training and testing sets\n",
    "X_train, X_test, y_train, y_test = train_test_split(X, y, test_size=0.5, random_state=1)\n",
    "\n",
    "# Scale the training and testing data\n",
    "scaler = MinMaxScaler()\n",
    "X_train_scaled = scaler.fit_transform(X_train)\n",
    "X_test_scaled = scaler.transform(X_test)"
   ]
  },
  {
   "cell_type": "markdown",
   "id": "c94eb66a",
   "metadata": {},
   "source": [
    "# LINEAR "
   ]
  },
  {
   "cell_type": "code",
   "execution_count": 14,
   "id": "d2437e32",
   "metadata": {},
   "outputs": [
    {
     "name": "stdout",
     "output_type": "stream",
     "text": [
      "[LibSVM]SVM Linear Accuracy : 0.8278683202389455\n"
     ]
    }
   ],
   "source": [
    "#model fitting\n",
    "svm_linear = SVC(kernel='linear',cache_size=1000, verbose = True, max_iter = 100000, random_state=1)\n",
    "\n",
    "svm_linear.fit(X_train_scaled, y_train)\n",
    "\n",
    "accuracy = svm_linear.score(X_test_scaled, y_test)\n",
    "print(\"SVM Linear Accuracy :\", accuracy)"
   ]
  },
  {
   "cell_type": "code",
   "execution_count": 15,
   "id": "a5bd9767",
   "metadata": {},
   "outputs": [
    {
     "name": "stdout",
     "output_type": "stream",
     "text": [
      "[LibSVM][LibSVM][LibSVM][LibSVM][LibSVM][LibSVM][LibSVM][LibSVM][LibSVM][LibSVM][LibSVM][LibSVM][LibSVM][LibSVM][LibSVM][LibSVM][LibSVM][LibSVM][LibSVM][LibSVM][LibSVM]"
     ]
    },
    {
     "data": {
      "text/plain": [
       "{'C': 10}"
      ]
     },
     "execution_count": 15,
     "metadata": {},
     "output_type": "execute_result"
    }
   ],
   "source": [
    "#parameter tuning\n",
    "kfold = skm.KFold(5, random_state=1,shuffle=True)\n",
    "grid = skm.GridSearchCV(svm_linear,{'C':[0.01,0.1,1,10]},refit=True,cv=kfold,scoring='accuracy')\n",
    "grid.fit(X_train_scaled, y_train)\n",
    "grid.best_params_"
   ]
  },
  {
   "cell_type": "code",
   "execution_count": 16,
   "id": "d622a78f",
   "metadata": {},
   "outputs": [
    {
     "name": "stdout",
     "output_type": "stream",
     "text": [
      "[LibSVM]SVM Linear Accuracy after parameter tuning: 0.8272839426011298\n"
     ]
    }
   ],
   "source": [
    "#model fitting after parameter tuning\n",
    "svm_linear = SVC(kernel='linear', C = 10, cache_size=1000, verbose = True, max_iter = 100000, random_state=1)\n",
    "\n",
    "svm_linear.fit(X_train_scaled, y_train)\n",
    "\n",
    "accuracy = svm_linear.score(X_test_scaled, y_test)\n",
    "print(\"SVM Linear Accuracy after parameter tuning:\", accuracy)"
   ]
  },
  {
   "cell_type": "code",
   "execution_count": 17,
   "id": "ca72b553",
   "metadata": {},
   "outputs": [
    {
     "data": {
      "text/plain": [
       "array([[10083,  1854],\n",
       "       [  806,  2658]], dtype=int64)"
      ]
     },
     "execution_count": 17,
     "metadata": {},
     "output_type": "execute_result"
    }
   ],
   "source": [
    "y_pred = svm_linear.predict(X_test_scaled)\n",
    "confusion_matrix(y_pred, y_test)"
   ]
  },
  {
   "cell_type": "code",
   "execution_count": 18,
   "id": "00e54490",
   "metadata": {},
   "outputs": [
    {
     "data": {
      "text/html": [
       "<div>\n",
       "<style scoped>\n",
       "    .dataframe tbody tr th:only-of-type {\n",
       "        vertical-align: middle;\n",
       "    }\n",
       "\n",
       "    .dataframe tbody tr th {\n",
       "        vertical-align: top;\n",
       "    }\n",
       "\n",
       "    .dataframe thead th {\n",
       "        text-align: right;\n",
       "    }\n",
       "</style>\n",
       "<table border=\"1\" class=\"dataframe\">\n",
       "  <thead>\n",
       "    <tr style=\"text-align: right;\">\n",
       "      <th></th>\n",
       "      <th>Feature</th>\n",
       "      <th>Importance Score</th>\n",
       "    </tr>\n",
       "  </thead>\n",
       "  <tbody>\n",
       "    <tr>\n",
       "      <th>1</th>\n",
       "      <td>HHINCOME</td>\n",
       "      <td>4.477121</td>\n",
       "    </tr>\n",
       "    <tr>\n",
       "      <th>3</th>\n",
       "      <td>BEDROOMS</td>\n",
       "      <td>4.199444</td>\n",
       "    </tr>\n",
       "    <tr>\n",
       "      <th>5</th>\n",
       "      <td>NFAMS</td>\n",
       "      <td>2.605948</td>\n",
       "    </tr>\n",
       "    <tr>\n",
       "      <th>7</th>\n",
       "      <td>AGE</td>\n",
       "      <td>2.300163</td>\n",
       "    </tr>\n",
       "    <tr>\n",
       "      <th>2</th>\n",
       "      <td>ROOMS</td>\n",
       "      <td>1.971770</td>\n",
       "    </tr>\n",
       "    <tr>\n",
       "      <th>8</th>\n",
       "      <td>INCTOT</td>\n",
       "      <td>1.466320</td>\n",
       "    </tr>\n",
       "    <tr>\n",
       "      <th>0</th>\n",
       "      <td>DENSITY</td>\n",
       "      <td>1.109097</td>\n",
       "    </tr>\n",
       "    <tr>\n",
       "      <th>12</th>\n",
       "      <td>MARST_separated</td>\n",
       "      <td>0.614624</td>\n",
       "    </tr>\n",
       "    <tr>\n",
       "      <th>19</th>\n",
       "      <td>EDUC_Elementry_school</td>\n",
       "      <td>0.542623</td>\n",
       "    </tr>\n",
       "    <tr>\n",
       "      <th>11</th>\n",
       "      <td>MARST_married,spouse_present</td>\n",
       "      <td>0.483426</td>\n",
       "    </tr>\n",
       "    <tr>\n",
       "      <th>4</th>\n",
       "      <td>VEHICLES</td>\n",
       "      <td>0.451287</td>\n",
       "    </tr>\n",
       "    <tr>\n",
       "      <th>17</th>\n",
       "      <td>EDUC_4yrs_college</td>\n",
       "      <td>0.333660</td>\n",
       "    </tr>\n",
       "    <tr>\n",
       "      <th>25</th>\n",
       "      <td>EDUC_no_school</td>\n",
       "      <td>0.304212</td>\n",
       "    </tr>\n",
       "    <tr>\n",
       "      <th>18</th>\n",
       "      <td>EDUC_5+yrscollege</td>\n",
       "      <td>0.301089</td>\n",
       "    </tr>\n",
       "    <tr>\n",
       "      <th>16</th>\n",
       "      <td>EDUC_2yrs_college</td>\n",
       "      <td>0.249928</td>\n",
       "    </tr>\n",
       "    <tr>\n",
       "      <th>22</th>\n",
       "      <td>EDUC_Gr12_schooling</td>\n",
       "      <td>0.125846</td>\n",
       "    </tr>\n",
       "    <tr>\n",
       "      <th>23</th>\n",
       "      <td>EDUC_Gr9_schooling</td>\n",
       "      <td>0.110602</td>\n",
       "    </tr>\n",
       "    <tr>\n",
       "      <th>20</th>\n",
       "      <td>EDUC_Gr10_schooling</td>\n",
       "      <td>0.107615</td>\n",
       "    </tr>\n",
       "    <tr>\n",
       "      <th>15</th>\n",
       "      <td>EDUC_1yr_college</td>\n",
       "      <td>0.099714</td>\n",
       "    </tr>\n",
       "    <tr>\n",
       "      <th>9</th>\n",
       "      <td>MARST_divorced</td>\n",
       "      <td>0.076073</td>\n",
       "    </tr>\n",
       "    <tr>\n",
       "      <th>21</th>\n",
       "      <td>EDUC_Gr11_schooling</td>\n",
       "      <td>0.070955</td>\n",
       "    </tr>\n",
       "    <tr>\n",
       "      <th>13</th>\n",
       "      <td>MARST_single</td>\n",
       "      <td>0.051619</td>\n",
       "    </tr>\n",
       "    <tr>\n",
       "      <th>6</th>\n",
       "      <td>NCOUPLES</td>\n",
       "      <td>0.028765</td>\n",
       "    </tr>\n",
       "    <tr>\n",
       "      <th>24</th>\n",
       "      <td>EDUC_Primary_school</td>\n",
       "      <td>0.025772</td>\n",
       "    </tr>\n",
       "    <tr>\n",
       "      <th>14</th>\n",
       "      <td>MARST_widow</td>\n",
       "      <td>0.022449</td>\n",
       "    </tr>\n",
       "    <tr>\n",
       "      <th>10</th>\n",
       "      <td>MARST_married,spouse_absent</td>\n",
       "      <td>0.018943</td>\n",
       "    </tr>\n",
       "  </tbody>\n",
       "</table>\n",
       "</div>"
      ],
      "text/plain": [
       "                         Feature  Importance Score\n",
       "1                       HHINCOME          4.477121\n",
       "3                       BEDROOMS          4.199444\n",
       "5                          NFAMS          2.605948\n",
       "7                            AGE          2.300163\n",
       "2                          ROOMS          1.971770\n",
       "8                         INCTOT          1.466320\n",
       "0                        DENSITY          1.109097\n",
       "12               MARST_separated          0.614624\n",
       "19         EDUC_Elementry_school          0.542623\n",
       "11  MARST_married,spouse_present          0.483426\n",
       "4                       VEHICLES          0.451287\n",
       "17             EDUC_4yrs_college          0.333660\n",
       "25                EDUC_no_school          0.304212\n",
       "18             EDUC_5+yrscollege          0.301089\n",
       "16             EDUC_2yrs_college          0.249928\n",
       "22           EDUC_Gr12_schooling          0.125846\n",
       "23            EDUC_Gr9_schooling          0.110602\n",
       "20           EDUC_Gr10_schooling          0.107615\n",
       "15              EDUC_1yr_college          0.099714\n",
       "9                 MARST_divorced          0.076073\n",
       "21           EDUC_Gr11_schooling          0.070955\n",
       "13                  MARST_single          0.051619\n",
       "6                       NCOUPLES          0.028765\n",
       "24           EDUC_Primary_school          0.025772\n",
       "14                   MARST_widow          0.022449\n",
       "10   MARST_married,spouse_absent          0.018943"
      ]
     },
     "execution_count": 18,
     "metadata": {},
     "output_type": "execute_result"
    }
   ],
   "source": [
    "#finding the importance features\n",
    "coefficients = svm_linear.coef_\n",
    "importance_scores = np.abs(coefficients)\n",
    "\n",
    "importance_df = pd.DataFrame({'Feature': X.columns, 'Importance Score': importance_scores[0]})\n",
    "importance_df = importance_df.sort_values(by='Importance Score', ascending=False)\n",
    "importance_df"
   ]
  },
  {
   "cell_type": "code",
   "execution_count": 19,
   "id": "57d2d94d",
   "metadata": {
    "scrolled": true
   },
   "outputs": [
    {
     "name": "stdout",
     "output_type": "stream",
     "text": [
      "[LibSVM]"
     ]
    },
    {
     "data": {
      "image/png": "[encoded data removed]",
      "text/plain": [
       "<Figure size 1000x600 with 1 Axes>"
      ]
     },
     "metadata": {},
     "output_type": "display_data"
    }
   ],
   "source": [
    "#plotting svm with 2 strong predictors\n",
    "strong_predictors_2 = importance_df.head(2)['Feature'].values\n",
    "strong_predictors = X[strong_predictors_2]\n",
    "X_train_strong, X_test_strong, y_train_strong, y_test_strong = train_test_split(strong_predictors, y, test_size=0.5, random_state=1)\n",
    "\n",
    "scaler_strong = StandardScaler()\n",
    "X_train_scaled_strong = scaler_strong.fit_transform(X_train_strong)\n",
    "X_test_scaled_strong = scaler_strong.transform(X_test_strong)\n",
    "\n",
    "svm_linear_strong = SVC(kernel='linear', C=10, cache_size=1000, verbose=True, max_iter=100000, random_state=1)\n",
    "svm_linear_strong.fit(X_train_scaled_strong, y_train_strong)\n",
    "\n",
    "# Plot the decision boundary\n",
    "plt.figure(figsize=(10, 6))\n",
    "plot_decision_regions(X_test_scaled_strong, y_test_strong.to_numpy(), clf=svm_linear_strong, legend=2)\n",
    "plt.xlabel(strong_predictors_2[0])\n",
    "plt.ylabel(strong_predictors_2[1])\n",
    "plt.title('SVM Decision Boundary with 2 strong predictor variables')\n",
    "plt.show()"
   ]
  },
  {
   "cell_type": "markdown",
   "id": "74d6c1c2",
   "metadata": {},
   "source": [
    "# RADIAL"
   ]
  },
  {
   "cell_type": "code",
   "execution_count": 33,
   "id": "44d20722",
   "metadata": {},
   "outputs": [
    {
     "name": "stdout",
     "output_type": "stream",
     "text": [
      "[LibSVM]SVM Radial kernel accuracy : 0.8285176287254075\n"
     ]
    }
   ],
   "source": [
    "#fitting the data with radial kernel\n",
    "svm_radial = SVC(kernel='rbf', cache_size=1000, verbose = True, max_iter = 100000, random_state=1)\n",
    "\n",
    "svm_radial.fit(X_train_scaled, y_train)\n",
    "\n",
    "accuracy = svm_radial.score(X_test_scaled, y_test)\n",
    "print(\"SVM Radial kernel accuracy :\", accuracy)"
   ]
  },
  {
   "cell_type": "code",
   "execution_count": 34,
   "id": "e97b6d6b",
   "metadata": {},
   "outputs": [
    {
     "name": "stdout",
     "output_type": "stream",
     "text": [
      "[LibSVM][LibSVM][LibSVM][LibSVM][LibSVM][LibSVM][LibSVM][LibSVM][LibSVM][LibSVM][LibSVM][LibSVM][LibSVM][LibSVM][LibSVM][LibSVM][LibSVM][LibSVM][LibSVM][LibSVM][LibSVM][LibSVM][LibSVM][LibSVM][LibSVM][LibSVM][LibSVM][LibSVM][LibSVM][LibSVM][LibSVM][LibSVM][LibSVM][LibSVM][LibSVM][LibSVM][LibSVM][LibSVM][LibSVM][LibSVM][LibSVM][LibSVM][LibSVM][LibSVM][LibSVM][LibSVM][LibSVM][LibSVM][LibSVM][LibSVM][LibSVM][LibSVM][LibSVM][LibSVM][LibSVM][LibSVM][LibSVM][LibSVM][LibSVM][LibSVM][LibSVM]"
     ]
    },
    {
     "data": {
      "text/plain": [
       "{'C': 10, 'gamma': 0.5}"
      ]
     },
     "execution_count": 34,
     "metadata": {},
     "output_type": "execute_result"
    }
   ],
   "source": [
    "#parameter tuning\n",
    "kfold = skm.KFold(5, random_state=1,shuffle=True)\n",
    "grid = skm.GridSearchCV(svm_radial,{'C':[0.01,0.1,1,10], 'gamma':[0.5,1,2]},refit=True,cv=kfold,scoring='accuracy')\n",
    "grid.fit(X_train_scaled, y_train)\n",
    "grid.best_params_"
   ]
  },
  {
   "cell_type": "code",
   "execution_count": 35,
   "id": "36d5dfe9",
   "metadata": {},
   "outputs": [
    {
     "name": "stdout",
     "output_type": "stream",
     "text": [
      "[LibSVM]SVM Radial accuracy after tuning : 0.8318940328550094\n"
     ]
    }
   ],
   "source": [
    "#fitting the model after parameter tuning\n",
    "svm_radial = SVC(kernel='rbf', C=10, gamma=0.5, cache_size=1000, verbose = True, max_iter = 100000, random_state=1)\n",
    "\n",
    "svm_radial.fit(X_train_scaled, y_train)\n",
    "\n",
    "accuracy = svm_radial.score(X_test_scaled, y_test)\n",
    "print(\"SVM Radial accuracy after tuning :\", accuracy)"
   ]
  },
  {
   "cell_type": "code",
   "execution_count": 36,
   "id": "3a583a04",
   "metadata": {},
   "outputs": [
    {
     "data": {
      "text/plain": [
       "array([[10271,  1971],\n",
       "       [  618,  2541]], dtype=int64)"
      ]
     },
     "execution_count": 36,
     "metadata": {},
     "output_type": "execute_result"
    }
   ],
   "source": [
    "y_pred = svm_radial.predict(X_test_scaled)\n",
    "confusion_matrix(y_pred, y_test)"
   ]
  },
  {
   "cell_type": "code",
   "execution_count": 37,
   "id": "5fbd1a7a",
   "metadata": {},
   "outputs": [
    {
     "data": {
      "text/html": [
       "<div>\n",
       "<style scoped>\n",
       "    .dataframe tbody tr th:only-of-type {\n",
       "        vertical-align: middle;\n",
       "    }\n",
       "\n",
       "    .dataframe tbody tr th {\n",
       "        vertical-align: top;\n",
       "    }\n",
       "\n",
       "    .dataframe thead th {\n",
       "        text-align: right;\n",
       "    }\n",
       "</style>\n",
       "<table border=\"1\" class=\"dataframe\">\n",
       "  <thead>\n",
       "    <tr style=\"text-align: right;\">\n",
       "      <th></th>\n",
       "      <th>feature</th>\n",
       "      <th>importance</th>\n",
       "    </tr>\n",
       "  </thead>\n",
       "  <tbody>\n",
       "    <tr>\n",
       "      <th>0</th>\n",
       "      <td>BEDROOMS</td>\n",
       "      <td>0.055165</td>\n",
       "    </tr>\n",
       "    <tr>\n",
       "      <th>1</th>\n",
       "      <td>AGE</td>\n",
       "      <td>0.040361</td>\n",
       "    </tr>\n",
       "    <tr>\n",
       "      <th>2</th>\n",
       "      <td>ROOMS</td>\n",
       "      <td>0.017674</td>\n",
       "    </tr>\n",
       "    <tr>\n",
       "      <th>3</th>\n",
       "      <td>VEHICLES</td>\n",
       "      <td>0.013181</td>\n",
       "    </tr>\n",
       "    <tr>\n",
       "      <th>4</th>\n",
       "      <td>INCTOT</td>\n",
       "      <td>0.007337</td>\n",
       "    </tr>\n",
       "    <tr>\n",
       "      <th>5</th>\n",
       "      <td>MARST_single</td>\n",
       "      <td>0.005740</td>\n",
       "    </tr>\n",
       "    <tr>\n",
       "      <th>6</th>\n",
       "      <td>DENSITY</td>\n",
       "      <td>0.005493</td>\n",
       "    </tr>\n",
       "    <tr>\n",
       "      <th>7</th>\n",
       "      <td>MARST_separated</td>\n",
       "      <td>0.004753</td>\n",
       "    </tr>\n",
       "    <tr>\n",
       "      <th>8</th>\n",
       "      <td>EDUC_Gr12_schooling</td>\n",
       "      <td>0.004480</td>\n",
       "    </tr>\n",
       "    <tr>\n",
       "      <th>9</th>\n",
       "      <td>MARST_divorced</td>\n",
       "      <td>0.003961</td>\n",
       "    </tr>\n",
       "    <tr>\n",
       "      <th>10</th>\n",
       "      <td>EDUC_1yr_college</td>\n",
       "      <td>0.003870</td>\n",
       "    </tr>\n",
       "    <tr>\n",
       "      <th>11</th>\n",
       "      <td>HHINCOME</td>\n",
       "      <td>0.002857</td>\n",
       "    </tr>\n",
       "    <tr>\n",
       "      <th>12</th>\n",
       "      <td>NFAMS</td>\n",
       "      <td>0.002805</td>\n",
       "    </tr>\n",
       "    <tr>\n",
       "      <th>13</th>\n",
       "      <td>NCOUPLES</td>\n",
       "      <td>0.002701</td>\n",
       "    </tr>\n",
       "    <tr>\n",
       "      <th>14</th>\n",
       "      <td>EDUC_4yrs_college</td>\n",
       "      <td>0.002675</td>\n",
       "    </tr>\n",
       "    <tr>\n",
       "      <th>15</th>\n",
       "      <td>MARST_married,spouse_present</td>\n",
       "      <td>0.002402</td>\n",
       "    </tr>\n",
       "    <tr>\n",
       "      <th>16</th>\n",
       "      <td>EDUC_5+yrscollege</td>\n",
       "      <td>0.001844</td>\n",
       "    </tr>\n",
       "    <tr>\n",
       "      <th>17</th>\n",
       "      <td>EDUC_2yrs_college</td>\n",
       "      <td>0.001844</td>\n",
       "    </tr>\n",
       "    <tr>\n",
       "      <th>18</th>\n",
       "      <td>MARST_widow</td>\n",
       "      <td>0.001571</td>\n",
       "    </tr>\n",
       "    <tr>\n",
       "      <th>19</th>\n",
       "      <td>EDUC_no_school</td>\n",
       "      <td>0.001143</td>\n",
       "    </tr>\n",
       "    <tr>\n",
       "      <th>20</th>\n",
       "      <td>EDUC_Elementry_school</td>\n",
       "      <td>0.001065</td>\n",
       "    </tr>\n",
       "    <tr>\n",
       "      <th>21</th>\n",
       "      <td>EDUC_Gr9_schooling</td>\n",
       "      <td>0.000740</td>\n",
       "    </tr>\n",
       "    <tr>\n",
       "      <th>22</th>\n",
       "      <td>EDUC_Gr11_schooling</td>\n",
       "      <td>0.000675</td>\n",
       "    </tr>\n",
       "    <tr>\n",
       "      <th>23</th>\n",
       "      <td>EDUC_Gr10_schooling</td>\n",
       "      <td>0.000532</td>\n",
       "    </tr>\n",
       "    <tr>\n",
       "      <th>24</th>\n",
       "      <td>EDUC_Primary_school</td>\n",
       "      <td>0.000455</td>\n",
       "    </tr>\n",
       "    <tr>\n",
       "      <th>25</th>\n",
       "      <td>MARST_married,spouse_absent</td>\n",
       "      <td>0.000117</td>\n",
       "    </tr>\n",
       "  </tbody>\n",
       "</table>\n",
       "</div>"
      ],
      "text/plain": [
       "                         feature  importance\n",
       "0                       BEDROOMS    0.055165\n",
       "1                            AGE    0.040361\n",
       "2                          ROOMS    0.017674\n",
       "3                       VEHICLES    0.013181\n",
       "4                         INCTOT    0.007337\n",
       "5                   MARST_single    0.005740\n",
       "6                        DENSITY    0.005493\n",
       "7                MARST_separated    0.004753\n",
       "8            EDUC_Gr12_schooling    0.004480\n",
       "9                 MARST_divorced    0.003961\n",
       "10              EDUC_1yr_college    0.003870\n",
       "11                      HHINCOME    0.002857\n",
       "12                         NFAMS    0.002805\n",
       "13                      NCOUPLES    0.002701\n",
       "14             EDUC_4yrs_college    0.002675\n",
       "15  MARST_married,spouse_present    0.002402\n",
       "16             EDUC_5+yrscollege    0.001844\n",
       "17             EDUC_2yrs_college    0.001844\n",
       "18                   MARST_widow    0.001571\n",
       "19                EDUC_no_school    0.001143\n",
       "20         EDUC_Elementry_school    0.001065\n",
       "21            EDUC_Gr9_schooling    0.000740\n",
       "22           EDUC_Gr11_schooling    0.000675\n",
       "23           EDUC_Gr10_schooling    0.000532\n",
       "24           EDUC_Primary_school    0.000455\n",
       "25   MARST_married,spouse_absent    0.000117"
      ]
     },
     "execution_count": 37,
     "metadata": {},
     "output_type": "execute_result"
    }
   ],
   "source": [
    "#important features\n",
    "result = permutation_importance(svm_radial, X_test_scaled, y_test, n_repeats=5, random_state=1)\n",
    "importance_df = pd.DataFrame({'feature': X.columns, 'importance': result.importances_mean})\n",
    "importance_df = importance_df.sort_values(by='importance', ascending=False).reset_index(drop=True)\n",
    "importance_df"
   ]
  },
  {
   "cell_type": "code",
   "execution_count": 38,
   "id": "523c6979",
   "metadata": {},
   "outputs": [
    {
     "name": "stdout",
     "output_type": "stream",
     "text": [
      "[LibSVM]"
     ]
    },
    {
     "data": {
      "image/png": "[encoded data removed]",
      "text/plain": [
       "<Figure size 1000x600 with 1 Axes>"
      ]
     },
     "metadata": {},
     "output_type": "display_data"
    }
   ],
   "source": [
    "strong_predictors_2 = importance_df.head(2)['feature'].values\n",
    "strong_predictors = X[strong_predictors_2]\n",
    "X_train_strong, X_test_strong, y_train_strong, y_test_strong = train_test_split(strong_predictors, y, test_size=0.5, random_state=1)\n",
    "\n",
    "scaler_strong = MinMaxScaler()\n",
    "X_train_scaled_strong = scaler_strong.fit_transform(X_train_strong)\n",
    "X_test_scaled_strong = scaler_strong.transform(X_test_strong)\n",
    "\n",
    "\n",
    "svm_radial_strong = SVC(kernel='rbf', C=10, gamma=0.5, cache_size=1000, verbose = True, max_iter = 100000, random_state=1)\n",
    "svm_radial_strong.fit(X_train_scaled_strong, y_train_strong)\n",
    "\n",
    "# Plot the decision boundary\n",
    "plt.figure(figsize=(10, 6))\n",
    "plot_decision_regions(X_test_scaled_strong, y_test_strong.to_numpy(), clf=svm_radial_strong, legend=2)\n",
    "plt.xlabel(strong_predictors_2[0])\n",
    "plt.ylabel(strong_predictors_2[1])\n",
    "plt.title('SVM Decision Boundary with 2 strong predictor variables')\n",
    "plt.show()"
   ]
  },
  {
   "cell_type": "markdown",
   "id": "4483e5a5",
   "metadata": {},
   "source": [
    "# POLYNOMIAL"
   ]
  },
  {
   "cell_type": "code",
   "execution_count": 26,
   "id": "6f26eaea",
   "metadata": {},
   "outputs": [
    {
     "name": "stdout",
     "output_type": "stream",
     "text": [
      "[LibSVM]SVM Polynomial kernel accuracy : 0.8255308096876827\n"
     ]
    }
   ],
   "source": [
    "#polynomial kernel model fitting\n",
    "svm_polynomial = SVC(kernel='poly', cache_size=1000, verbose = True, max_iter = 1000000, random_state=1)\n",
    "svm_polynomial.fit(X_train_scaled, y_train)\n",
    "accuracy = svm_polynomial.score(X_test_scaled, y_test)\n",
    "print(\"SVM Polynomial kernel accuracy :\", accuracy)"
   ]
  },
  {
   "cell_type": "code",
   "execution_count": 27,
   "id": "59583a88",
   "metadata": {},
   "outputs": [
    {
     "name": "stdout",
     "output_type": "stream",
     "text": [
      "[LibSVM][LibSVM][LibSVM][LibSVM][LibSVM][LibSVM][LibSVM][LibSVM][LibSVM][LibSVM][LibSVM][LibSVM][LibSVM][LibSVM][LibSVM][LibSVM][LibSVM][LibSVM][LibSVM][LibSVM][LibSVM][LibSVM][LibSVM][LibSVM][LibSVM][LibSVM][LibSVM][LibSVM][LibSVM][LibSVM][LibSVM][LibSVM][LibSVM][LibSVM][LibSVM][LibSVM][LibSVM][LibSVM][LibSVM][LibSVM][LibSVM][LibSVM][LibSVM][LibSVM][LibSVM][LibSVM][LibSVM][LibSVM][LibSVM][LibSVM][LibSVM][LibSVM][LibSVM][LibSVM][LibSVM][LibSVM][LibSVM][LibSVM][LibSVM][LibSVM][LibSVM]"
     ]
    },
    {
     "data": {
      "text/plain": [
       "{'C': 5, 'degree': 2}"
      ]
     },
     "execution_count": 27,
     "metadata": {},
     "output_type": "execute_result"
    }
   ],
   "source": [
    "#parameter tuning\n",
    "kfold = skm.KFold(5, random_state=1,shuffle=True)\n",
    "grid = skm.GridSearchCV(svm_polynomial,{'C':[0.01,0.1,1,5], 'degree':[1,2,3]},refit=True,cv=kfold,scoring='accuracy')\n",
    "grid.fit(X_train_scaled, y_train)\n",
    "grid.best_params_"
   ]
  },
  {
   "cell_type": "code",
   "execution_count": 28,
   "id": "6ff3b6cc",
   "metadata": {},
   "outputs": [
    {
     "name": "stdout",
     "output_type": "stream",
     "text": [
      "[LibSVM]SVM Polynomial kernel accuracy after tuning : 0.830400623336147\n"
     ]
    }
   ],
   "source": [
    "#model fitting after parameter tuning\n",
    "svm_polynomial = SVC(kernel='poly', degree=2, coef0=1, C=5, gamma='scale', cache_size=1000, verbose = True, max_iter = 1000000, random_state=1)\n",
    "svm_polynomial.fit(X_train_scaled, y_train)\n",
    "accuracy = svm_polynomial.score(X_test_scaled, y_test)\n",
    "print(\"SVM Polynomial kernel accuracy after tuning :\", accuracy)"
   ]
  },
  {
   "cell_type": "code",
   "execution_count": 29,
   "id": "11e3c207",
   "metadata": {},
   "outputs": [
    {
     "data": {
      "text/plain": [
       "array([[10261,  1984],\n",
       "       [  628,  2528]], dtype=int64)"
      ]
     },
     "execution_count": 29,
     "metadata": {},
     "output_type": "execute_result"
    }
   ],
   "source": [
    "y_pred = svm_polynomial.predict(X_test_scaled)\n",
    "confusion_matrix(y_pred, y_test)"
   ]
  },
  {
   "cell_type": "code",
   "execution_count": 30,
   "id": "ac91338b",
   "metadata": {},
   "outputs": [
    {
     "data": {
      "text/html": [
       "<div>\n",
       "<style scoped>\n",
       "    .dataframe tbody tr th:only-of-type {\n",
       "        vertical-align: middle;\n",
       "    }\n",
       "\n",
       "    .dataframe tbody tr th {\n",
       "        vertical-align: top;\n",
       "    }\n",
       "\n",
       "    .dataframe thead th {\n",
       "        text-align: right;\n",
       "    }\n",
       "</style>\n",
       "<table border=\"1\" class=\"dataframe\">\n",
       "  <thead>\n",
       "    <tr style=\"text-align: right;\">\n",
       "      <th></th>\n",
       "      <th>feature</th>\n",
       "      <th>importance</th>\n",
       "    </tr>\n",
       "  </thead>\n",
       "  <tbody>\n",
       "    <tr>\n",
       "      <th>0</th>\n",
       "      <td>BEDROOMS</td>\n",
       "      <td>5.939874e-02</td>\n",
       "    </tr>\n",
       "    <tr>\n",
       "      <th>1</th>\n",
       "      <td>AGE</td>\n",
       "      <td>3.960782e-02</td>\n",
       "    </tr>\n",
       "    <tr>\n",
       "      <th>2</th>\n",
       "      <td>MARST_married,spouse_present</td>\n",
       "      <td>2.376469e-02</td>\n",
       "    </tr>\n",
       "    <tr>\n",
       "      <th>3</th>\n",
       "      <td>ROOMS</td>\n",
       "      <td>1.372638e-02</td>\n",
       "    </tr>\n",
       "    <tr>\n",
       "      <th>4</th>\n",
       "      <td>EDUC_4yrs_college</td>\n",
       "      <td>9.012402e-03</td>\n",
       "    </tr>\n",
       "    <tr>\n",
       "      <th>5</th>\n",
       "      <td>VEHICLES</td>\n",
       "      <td>6.506071e-03</td>\n",
       "    </tr>\n",
       "    <tr>\n",
       "      <th>6</th>\n",
       "      <td>INCTOT</td>\n",
       "      <td>5.545094e-03</td>\n",
       "    </tr>\n",
       "    <tr>\n",
       "      <th>7</th>\n",
       "      <td>EDUC_5+yrscollege</td>\n",
       "      <td>5.363288e-03</td>\n",
       "    </tr>\n",
       "    <tr>\n",
       "      <th>8</th>\n",
       "      <td>HHINCOME</td>\n",
       "      <td>3.155639e-03</td>\n",
       "    </tr>\n",
       "    <tr>\n",
       "      <th>9</th>\n",
       "      <td>DENSITY</td>\n",
       "      <td>2.817999e-03</td>\n",
       "    </tr>\n",
       "    <tr>\n",
       "      <th>10</th>\n",
       "      <td>NFAMS</td>\n",
       "      <td>2.545289e-03</td>\n",
       "    </tr>\n",
       "    <tr>\n",
       "      <th>11</th>\n",
       "      <td>NCOUPLES</td>\n",
       "      <td>2.285566e-03</td>\n",
       "    </tr>\n",
       "    <tr>\n",
       "      <th>12</th>\n",
       "      <td>MARST_widow</td>\n",
       "      <td>1.831050e-03</td>\n",
       "    </tr>\n",
       "    <tr>\n",
       "      <th>13</th>\n",
       "      <td>EDUC_2yrs_college</td>\n",
       "      <td>1.818064e-03</td>\n",
       "    </tr>\n",
       "    <tr>\n",
       "      <th>14</th>\n",
       "      <td>MARST_single</td>\n",
       "      <td>1.714174e-03</td>\n",
       "    </tr>\n",
       "    <tr>\n",
       "      <th>15</th>\n",
       "      <td>EDUC_1yr_college</td>\n",
       "      <td>9.220181e-04</td>\n",
       "    </tr>\n",
       "    <tr>\n",
       "      <th>16</th>\n",
       "      <td>MARST_divorced</td>\n",
       "      <td>8.311149e-04</td>\n",
       "    </tr>\n",
       "    <tr>\n",
       "      <th>17</th>\n",
       "      <td>EDUC_Gr12_schooling</td>\n",
       "      <td>6.882670e-04</td>\n",
       "    </tr>\n",
       "    <tr>\n",
       "      <th>18</th>\n",
       "      <td>EDUC_no_school</td>\n",
       "      <td>4.155574e-04</td>\n",
       "    </tr>\n",
       "    <tr>\n",
       "      <th>19</th>\n",
       "      <td>EDUC_Primary_school</td>\n",
       "      <td>1.038894e-04</td>\n",
       "    </tr>\n",
       "    <tr>\n",
       "      <th>20</th>\n",
       "      <td>MARST_separated</td>\n",
       "      <td>1.298617e-05</td>\n",
       "    </tr>\n",
       "    <tr>\n",
       "      <th>21</th>\n",
       "      <td>MARST_married,spouse_absent</td>\n",
       "      <td>-6.661338e-17</td>\n",
       "    </tr>\n",
       "    <tr>\n",
       "      <th>22</th>\n",
       "      <td>EDUC_Elementry_school</td>\n",
       "      <td>-3.895851e-05</td>\n",
       "    </tr>\n",
       "    <tr>\n",
       "      <th>23</th>\n",
       "      <td>EDUC_Gr10_schooling</td>\n",
       "      <td>-1.428479e-04</td>\n",
       "    </tr>\n",
       "    <tr>\n",
       "      <th>24</th>\n",
       "      <td>EDUC_Gr9_schooling</td>\n",
       "      <td>-2.337511e-04</td>\n",
       "    </tr>\n",
       "    <tr>\n",
       "      <th>25</th>\n",
       "      <td>EDUC_Gr11_schooling</td>\n",
       "      <td>-4.934744e-04</td>\n",
       "    </tr>\n",
       "  </tbody>\n",
       "</table>\n",
       "</div>"
      ],
      "text/plain": [
       "                         feature    importance\n",
       "0                       BEDROOMS  5.939874e-02\n",
       "1                            AGE  3.960782e-02\n",
       "2   MARST_married,spouse_present  2.376469e-02\n",
       "3                          ROOMS  1.372638e-02\n",
       "4              EDUC_4yrs_college  9.012402e-03\n",
       "5                       VEHICLES  6.506071e-03\n",
       "6                         INCTOT  5.545094e-03\n",
       "7              EDUC_5+yrscollege  5.363288e-03\n",
       "8                       HHINCOME  3.155639e-03\n",
       "9                        DENSITY  2.817999e-03\n",
       "10                         NFAMS  2.545289e-03\n",
       "11                      NCOUPLES  2.285566e-03\n",
       "12                   MARST_widow  1.831050e-03\n",
       "13             EDUC_2yrs_college  1.818064e-03\n",
       "14                  MARST_single  1.714174e-03\n",
       "15              EDUC_1yr_college  9.220181e-04\n",
       "16                MARST_divorced  8.311149e-04\n",
       "17           EDUC_Gr12_schooling  6.882670e-04\n",
       "18                EDUC_no_school  4.155574e-04\n",
       "19           EDUC_Primary_school  1.038894e-04\n",
       "20               MARST_separated  1.298617e-05\n",
       "21   MARST_married,spouse_absent -6.661338e-17\n",
       "22         EDUC_Elementry_school -3.895851e-05\n",
       "23           EDUC_Gr10_schooling -1.428479e-04\n",
       "24            EDUC_Gr9_schooling -2.337511e-04\n",
       "25           EDUC_Gr11_schooling -4.934744e-04"
      ]
     },
     "execution_count": 30,
     "metadata": {},
     "output_type": "execute_result"
    }
   ],
   "source": [
    "result = permutation_importance(svm_polynomial, X_test_scaled, y_test, n_repeats=5, random_state=1)\n",
    "importance_df = pd.DataFrame({'feature': X.columns, 'importance': result.importances_mean})\n",
    "importance_df = importance_df.sort_values(by='importance', ascending=False).reset_index(drop=True)\n",
    "importance_df"
   ]
  },
  {
   "cell_type": "code",
   "execution_count": 32,
   "id": "24c092c5",
   "metadata": {},
   "outputs": [
    {
     "name": "stdout",
     "output_type": "stream",
     "text": [
      "[LibSVM]"
     ]
    },
    {
     "name": "stderr",
     "output_type": "stream",
     "text": [
      "C:\\Users\\KARRA VIVEK REDDY\\anaconda3\\Lib\\site-packages\\sklearn\\svm\\_base.py:297: ConvergenceWarning: Solver terminated early (max_iter=1000000).  Consider pre-processing your data with StandardScaler or MinMaxScaler.\n",
      "  warnings.warn(\n"
     ]
    },
    {
     "data": {
      "image/png": "[encoded data removed]",
      "text/plain": [
       "<Figure size 1000x600 with 1 Axes>"
      ]
     },
     "metadata": {},
     "output_type": "display_data"
    }
   ],
   "source": [
    "strong_predictors_2 = importance_df.head(2)['feature'].values\n",
    "strong_predictors = X[strong_predictors_2]\n",
    "X_train_strong, X_test_strong, y_train_strong, y_test_strong = train_test_split(strong_predictors, y, test_size=0.5, random_state=1)\n",
    "\n",
    "scaler_strong = MinMaxScaler()\n",
    "X_train_scaled_strong = scaler_strong.fit_transform(X_train_strong)\n",
    "X_test_scaled_strong = scaler_strong.transform(X_test_strong)\n",
    "\n",
    "# Train the best model with the top 2 predictor variables\n",
    "svm_polynomial_strong = SVC(kernel='poly', degree=2, coef0=1, C=5, gamma='scale', cache_size=1000, verbose = True, max_iter = 1000000, random_state=1)\n",
    "svm_polynomial_strong.fit(X_train_scaled_strong, y_train_strong)\n",
    "\n",
    "# Plot the decision boundary\n",
    "plt.figure(figsize=(10, 6))\n",
    "plot_decision_regions(X_test_scaled_strong, y_test_strong.to_numpy(), clf=svm_polynomial_strong, legend=2)\n",
    "plt.xlabel(strong_predictors_2[0])\n",
    "plt.ylabel(strong_predictors_2[1])\n",
    "plt.title('SVM Decision Boundary with 2 strong predictor variables')\n",
    "plt.show()"
   ]
  },
  {
   "cell_type": "code",
   "execution_count": null,
   "id": "cbd8dc84",
   "metadata": {},
   "outputs": [],
   "source": []
  }
 ],
 "metadata": {
  "kernelspec": {
   "display_name": "Python 3 (ipykernel)",
   "language": "python",
   "name": "python3"
  },
  "language_info": {
   "codemirror_mode": {
    "name": "ipython",
    "version": 3
   },
   "file_extension": ".py",
   "mimetype": "text/x-python",
   "name": "python",
   "nbconvert_exporter": "python",
   "pygments_lexer": "ipython3",
   "version": "3.11.4"
  }
 },
 "nbformat": 4,
 "nbformat_minor": 5
}
